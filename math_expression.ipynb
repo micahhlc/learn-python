{
 "cells": [
  {
   "cell_type": "code",
   "execution_count": 1,
   "metadata": {},
   "outputs": [
    {
     "data": {
      "text/latex": [
       "$\\displaystyle \\frac{- b - \\sqrt{- 4 a c + b^{2}}}{2 a}$"
      ],
      "text/plain": [
       "<IPython.core.display.Math object>"
      ]
     },
     "metadata": {},
     "output_type": "display_data"
    }
   ],
   "source": [
    "from sympy import symbols, sqrt\n",
    "from sympy.printing import latex\n",
    "from IPython.display import display, Math\n",
    "\n",
    "\n",
    "# Define the variables\n",
    "a, b, c, x, y, z = symbols('a b c x y z')\n",
    "\n",
    "# Define the expression\n",
    "expression = (-b - sqrt(b**2 - 4*a*c)) / (2*a)\n",
    "\n",
    "# Convert the expression to LaTeX format\n",
    "latex_expression = latex(expression)\n",
    "\n",
    "# Print the LaTeX expression\n",
    "# print(latex_expression)\n",
    "\n",
    "# below need to run in Jupyterlab\n",
    "#  from IPython.display import display, Math\n",
    "\n",
    "# Define the LaTeX expression as a string\n",
    "# latex_expression = r'\\frac{- b - \\sqrt{b^{2} - \\left(4\\right) \\; a \\; c}}{\\left(2\\right) \\; a}'\n",
    "\n",
    "# Render the LaTeX expression using display(Math())\n",
    "display(Math(latex_expression))"
   ]
  }
 ],
 "metadata": {
  "kernelspec": {
   "display_name": "base",
   "language": "python",
   "name": "python3"
  },
  "language_info": {
   "codemirror_mode": {
    "name": "ipython",
    "version": 3
   },
   "file_extension": ".py",
   "mimetype": "text/x-python",
   "name": "python",
   "nbconvert_exporter": "python",
   "pygments_lexer": "ipython3",
   "version": "3.11.5"
  }
 },
 "nbformat": 4,
 "nbformat_minor": 2
}
