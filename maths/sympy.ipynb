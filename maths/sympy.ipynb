{
 "cells": [
  {
   "cell_type": "code",
   "execution_count": 1,
   "metadata": {},
   "outputs": [
    {
     "data": {
      "text/latex": [
       "$\\displaystyle 9 \\sqrt{\\frac{1}{y}}$"
      ],
      "text/plain": [
       "9*sqrt(1/y)"
      ]
     },
     "metadata": {},
     "output_type": "display_data"
    },
    {
     "data": {
      "text/latex": [
       "$\\displaystyle 10 \\sqrt{\\frac{1}{y}}$"
      ],
      "text/plain": [
       "10*sqrt(1/y)"
      ]
     },
     "metadata": {},
     "output_type": "display_data"
    },
    {
     "data": {
      "text/latex": [
       "$\\displaystyle 2^{y} + x$"
      ],
      "text/plain": [
       "2**y + x"
      ]
     },
     "metadata": {},
     "output_type": "display_data"
    }
   ],
   "source": [
    "import sympy as sym\n",
    "# import numpy as np\n",
    "# from IPython.display import display\n",
    "\n",
    "a,b,c,x,y,z = sym.symbols('a, b, c, x, y, z')\n",
    "p, time_per_year = sym.symbols('p, time_per_year')\n",
    "\n",
    "# expr = (x/y) * (a/y - b)\n",
    "# expr= p * ((1 + y) / time_per_year)**4*3\n",
    "# expr = -5 + 3 * 4 - 6 + (2 - 4) - 3**2 - 5\n",
    "# expr\n",
    "\n",
    "# display(x**y)\n",
    "# display(x/y)\n",
    "# display(np.sqrt(2))\n",
    "# display(sym.sqrt(2))\n",
    "display(sym.sqrt(81/y))\n",
    "display(sym.sqrt(100/y))\n",
    "display( x + 2**y)\n",
    "\n",
    "# from sympy import symbols\n",
    "# x, y = sym.symbols('x y')\n",
    "# expr = x + 2*y\n",
    "# expr\n"
   ]
  }
 ],
 "metadata": {
  "kernelspec": {
   "display_name": "base",
   "language": "python",
   "name": "python3"
  },
  "language_info": {
   "codemirror_mode": {
    "name": "ipython",
    "version": 3
   },
   "file_extension": ".py",
   "mimetype": "text/x-python",
   "name": "python",
   "nbconvert_exporter": "python",
   "pygments_lexer": "ipython3",
   "version": "3.11.5"
  }
 },
 "nbformat": 4,
 "nbformat_minor": 2
}
